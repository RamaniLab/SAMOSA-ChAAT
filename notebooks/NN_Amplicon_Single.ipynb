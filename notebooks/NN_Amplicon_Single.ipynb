{
 "cells": [
  {
   "cell_type": "markdown",
   "metadata": {},
   "source": [
    "# Methylation and accessibility prediction on amplicons using NN models for each base individually\n",
    "\n",
    "21/06/03\n",
    "\n",
    "A compilation of code from other notebooks that is used in this method, so that it can all be run together.\n",
    "\n",
    "Before this notebook:\n",
    "* Use Data_Processing.ipynb to generate scripts for pacbio processing. Run these on wynton.\n",
    "* Included in the scripts is to run extractIPDfull3.py. This will generate \\*full.pickle files for each sample"
   ]
  },
  {
   "cell_type": "code",
   "execution_count": 1,
   "metadata": {},
   "outputs": [],
   "source": [
    "import numpy as np\n",
    "import matplotlib.pyplot as plt\n",
    "import pandas as pd\n",
    "import matplotlib\n",
    "from tqdm import tqdm\n",
    "import pickle\n",
    "import os\n",
    "from Bio import Seq, SeqIO\n",
    "import socket\n",
    "\n",
    "from sklearn.decomposition import TruncatedSVD\n",
    "from scipy.sparse import coo_matrix\n",
    "from scipy.sparse import csr_matrix\n",
    "\n",
    "matplotlib.rcParams['font.sans-serif'] = \"Arial\"\n",
    "# Then, \"ALWAYS use sans-serif fonts\"\n",
    "matplotlib.rcParams['font.family'] = \"sans-serif\"\n",
    "\n",
    "if 'biochem1' in socket.gethostname():\n",
    "    dataPBase = '/avicenna/vramani/analyses/pacbio/'\n",
    "    figPBase = '/avicenna/cmcnally/pbanalysis/'\n",
    "if 'assembler4' in socket.gethostname():\n",
    "    dataPBase = '/data/users/goodarzilab/colin/results/pacbio/'\n",
    "if 'wynton' in socket.gethostname():\n",
    "    dataPBase = '/wynton/group/goodarzilab/ramanilab/results/pacbio/'\n",
    "if 'rumi' in socket.gethostname():\n",
    "    raise Exception('no pacbio results folder on rumi')\n",
    "    \n",
    "# load in reference sequences for both the independent and dependent CTCF sites\n",
    "refFile = dataPBase + 'pbrun10_CTCFpool_2/snf2h_independent_site_observed.fasta'\n",
    "for ir, record in enumerate(SeqIO.parse(refFile, 'fasta')):\n",
    "    if ir > 0:\n",
    "        raise InputError('Reference fasta has multiple entries')\n",
    "    irefseq = record.seq # reference sequence for independent CTCF site\n",
    "refFile = dataPBase + 'pbrun10_CTCFpool_2/snf2h_dependent_site_observed.fasta'\n",
    "for ir, record in enumerate(SeqIO.parse(refFile, 'fasta')):\n",
    "    if ir > 0:\n",
    "        raise InputError('Reference fasta has multiple entries')\n",
    "    drefseq = record.seq # reference sequence for dependent CTCF site\n",
    "\n",
    "# Load in the sample reference tables for the CTCF site samples\n",
    "sampleRef = pd.read_csv(dataPBase + 'pbrun10_CTCFpool_2/pbrun10_CTCFpool_2.sampleReference.csv')\n",
    "sampleRef = pd.concat([sampleRef,\n",
    "                       pd.read_csv(dataPBase + 'pbrun10_CTCFpool_1/pbrun10_CTCFpool_1.sampleReference.csv')],\n",
    "                      ignore_index=True)\n",
    "sampleRef = pd.concat([sampleRef,\n",
    "                       pd.read_csv(dataPBase + '210516_NA_SNF2hCTCFarray_ST_rep2/210516_NA_SNF2hCTCFarray_ST_rep2.sampleReference.wynton.csv')],\n",
    "                      ignore_index=True)\n",
    "sampleRef = pd.concat([sampleRef,\n",
    "                       pd.read_csv(dataPBase + '210520_NA_SNF2hCTCFarray_MT_rep1/210520_NA_SNF2hCTCFarray_MT_rep1.sampleReference.wynton.csv')],\n",
    "                      ignore_index=True)\n",
    "sampleRef = pd.concat([sampleRef,\n",
    "                       pd.read_csv(dataPBase + '210608_NA_SNF2hCTCFarray_MT_rep2/210608_NA_SNF2hCTCFarray_MT_rep2.sampleReference.wynton.csv')],\n",
    "                      ignore_index=True)\n",
    "\n",
    "del sampleRef['index']\n",
    "\n",
    "indepSamples = np.nonzero([(name[0:5] == 'Indep' or name[0:8] == 'CTCF_Ind') for name in sampleRef['sampleName']])[0]\n",
    "depSamples = np.nonzero([(name[0:5] == 'Depen' or name[0:8] == 'CTCF_Dep') for name in sampleRef['sampleName']])[0]"
   ]
  },
  {
   "cell_type": "code",
   "execution_count": null,
   "metadata": {},
   "outputs": [],
   "source": [
    "# Alternatively, for Widom molecules\n",
    "\n",
    "amplicon = 'widom'\n",
    "sampleRef =  pd.read_csv(dataPBase + 'pbrun3-9_SampleReference.csv')\n",
    "\n",
    "samp = 44\n",
    "for ir, record in enumerate(SeqIO.parse(sampleRef['reference'][samp], 'fasta')):\n",
    "    if ir > 0:\n",
    "        raise InputError('Reference fasta has multiple entries')\n",
    "    wrefseq = record.seq"
   ]
  },
  {
   "cell_type": "code",
   "execution_count": null,
   "metadata": {
    "scrolled": false
   },
   "outputs": [],
   "source": [
    "pd.set_option('display.max_rows', 100)\n",
    "sampleRef"
   ]
  },
  {
   "cell_type": "markdown",
   "metadata": {},
   "source": [
    "## Step 1: Perform dimensionality reduction on molecules using non-adenine bases\n",
    "The resulting components capture variation in IPD patterns between molecules, and will be used in step 2 to adjust the expectations for IPD measurements from unmethylated adenines in different molecules"
   ]
  },
  {
   "cell_type": "code",
   "execution_count": 10,
   "metadata": {},
   "outputs": [],
   "source": [
    "def latentifyMakeNNinput(cellname, sampname, refseq, svdmodel=None):\n",
    "    with open(os.path.join(dataPBase, cellname,'processed','full', \n",
    "                       cellname + '_' + sampname + '_full.pickle'), 'rb') as fin:\n",
    "        ipds = pickle.load(fin, encoding=\"latin1\")\n",
    "    \n",
    "    refis = {n: np.array([b is n for b in refseq]) for n in ['A','C','G','T']}\n",
    "    \n",
    "    notaFor = np.logical_or.reduce([refis['A'],refis['C'],refis['G']])\n",
    "    notaRev = np.logical_or.reduce([refis['T'],refis['C'],refis['G']])\n",
    "    nfor = np.sum(notaFor)\n",
    "    nrev = np.sum(notaRev)\n",
    "\n",
    "    notaipd = np.full((len(ipds), (nfor + nrev)), np.nan, dtype=np.float32)\n",
    "\n",
    "    for i in range(len(ipds)):\n",
    "        notaipd[i, 0:nfor] = ipds[i]['fmean'][notaFor]\n",
    "        notaipd[i, nfor:(nfor+nrev)] = ipds[i]['rmean'][notaRev]\n",
    "        \n",
    "    notaipd = notaipd - np.nanmean(notaipd, axis=0)\n",
    "    indices = np.nonzero(~np.isnan(notaipd))\n",
    "    sparsem = coo_matrix( (notaipd[indices], indices), shape=notaipd.shape)\n",
    "    sparsem = csr_matrix(sparsem)\n",
    "    \n",
    "    if svdmodel is None:\n",
    "        svdmodel = TruncatedSVD(n_components=40, n_iter=20, random_state=33)\n",
    "        svdmodel.fit(sparsem)\n",
    "        pcvars = svdmodel.transform(sparsem)\n",
    "    else:\n",
    "        pcvars = svdmodel.transform(sparsem)\n",
    "        \n",
    "    stpcvars = pcvars - pcvars.mean(axis=0)\n",
    "    stpcvars = stpcvars / stpcvars.std(axis=0)\n",
    "    \n",
    "    onlyATref = [b for b in refseq if b == 'A' or b == 'T']\n",
    "    refisonly = {n: np.array([b is n for b in onlyATref]) for n in ['A','T']}\n",
    "\n",
    "    aipd = np.full((len(ipds), len(onlyATref)), np.nan, dtype=np.float32)\n",
    "    for i in range(len(ipds)):\n",
    "        aipd[i, refisonly['T']] = ipds[i]['fmean'][refis['T']]\n",
    "        aipd[i, refisonly['A']] = ipds[i]['rmean'][refis['A']]\n",
    "    \n",
    "    abaseInd = np.nonzero(np.logical_or(refis['A'], refis['T']))[0]\n",
    "    if not os.path.exists(dataPBase + '%s/processed/forNN' % (cellname)):\n",
    "        os.makedirs(dataPBase + '%s/processed/forNN' % (cellname))\n",
    "    # write nn input file\n",
    "    np.savez(os.path.join(dataPBase, cellname,'processed','forNN',\n",
    "                           cellname + '_' + sampname + '_forNNsimple.npz'), \n",
    "             aipd = aipd,\n",
    "             stpcvars = stpcvars, \n",
    "             abaseInd = abaseInd)\n",
    "        \n",
    "    return svdmodel"
   ]
  },
  {
   "cell_type": "code",
   "execution_count": 10,
   "metadata": {},
   "outputs": [
    {
     "name": "stderr",
     "output_type": "stream",
     "text": [
      "100%|██████████| 38/38 [05:55<00:00,  9.36s/it]\n",
      "100%|██████████| 34/34 [05:05<00:00,  8.99s/it]\n"
     ]
    }
   ],
   "source": [
    "# independent site samples\n",
    "\n",
    "samp = 1 # the independent site naked unmethylated control\n",
    "isvdmod = latentifyMakeNNinput(sampleRef['cell'][samp], sampleRef['sampleName'][samp], irefseq)\n",
    "\n",
    "for samp in tqdm(indepSamples):\n",
    "    isvdmod = latentifyMakeNNinput(sampleRef['cell'][samp], sampleRef['sampleName'][samp], irefseq, isvdmod)\n",
    "    \n",
    "# dependent site samples\n",
    "\n",
    "samp = 3 # the dependent site naked unmethylated control\n",
    "dsvdmod = latentifyMakeNNinput(sampleRef['cell'][samp], sampleRef['sampleName'][samp], drefseq)\n",
    "\n",
    "for samp in tqdm(depSamples):\n",
    "    dsvdmod = latentifyMakeNNinput(sampleRef['cell'][samp], sampleRef['sampleName'][samp], drefseq, dsvdmod)\n",
    "    \n",
    "svdModelD = {}\n",
    "svdModelD['independent'] = isvdmod\n",
    "svdModelD['dependent'] = dsvdmod\n",
    "\n",
    "with open('/data/users/goodarzilab/colin/models/CTCFsites/svdModels.pickle', 'wb') as fout:\n",
    "    pickle.dump(svdModelD, fout)"
   ]
  },
  {
   "cell_type": "code",
   "execution_count": 15,
   "metadata": {},
   "outputs": [
    {
     "name": "stderr",
     "output_type": "stream",
     "text": [
      "100%|██████████| 8/8 [01:41<00:00, 12.65s/it]\n",
      "100%|██████████| 12/12 [02:04<00:00, 10.37s/it]\n"
     ]
    }
   ],
   "source": [
    "with open('/data/users/goodarzilab/colin/models/CTCFsites/svdModels.pickle', 'rb') as fin:\n",
    "    svdModelD = pickle.load(fin)\n",
    "    \n",
    "redoInd = indepSamples[indepSamples >= 72]\n",
    "redoDep = depSamples[depSamples >= 72]\n",
    "\n",
    "for samp in tqdm(redoInd, position=0):\n",
    "    isvdmod = latentifyMakeNNinput(sampleRef['cell'][samp], sampleRef['sampleName'][samp], irefseq, svdModelD['independent'])\n",
    "    \n",
    "for samp in tqdm(redoDep, position=0):\n",
    "    dsvdmod = latentifyMakeNNinput(sampleRef['cell'][samp], sampleRef['sampleName'][samp], drefseq, svdModelD['dependent'])"
   ]
  },
  {
   "cell_type": "markdown",
   "metadata": {},
   "source": [
    "## Step 2: Fit a regression to IPD in unmethylated control samples and subtract that expectation from measurements to get residuals"
   ]
  },
  {
   "cell_type": "code",
   "execution_count": 17,
   "metadata": {},
   "outputs": [],
   "source": [
    "############ Alternate model that predicts all bases at once\n",
    "\n",
    "# now use NN to get residuals\n",
    "from tensorflow import keras\n",
    "from tensorflow.keras import backend as K\n",
    "import tensorflow as tf\n",
    "\n",
    "tf.get_logger().setLevel('ERROR')\n",
    "\n",
    "def getResiduals(samp, model=None, suffix=''):\n",
    "\n",
    "    with np.load(os.path.join(dataPBase, sampleRef['cell'][samp],'processed','forNN',\n",
    "                              sampleRef['cell'][samp] + '_' + sampleRef['sampleName'][samp] + '_forNNsimple.npz')) as data:\n",
    "        aipd = data['aipd']\n",
    "        pcvars = data['stpcvars']\n",
    "\n",
    "    if model is None:\n",
    "                    \n",
    "        pcv_input = keras.layers.Input(shape=pcvars.shape[1:])\n",
    "        lay1 = keras.layers.Dense(600, activation=\"relu\", kernel_initializer='he_uniform')(pcv_input)\n",
    "        drop1 = keras.layers.Dropout(0.5)(lay1)\n",
    "        lay2 = keras.layers.Dense(600, activation=\"relu\", kernel_initializer='he_uniform')(drop1)\n",
    "        drop2 = keras.layers.Dropout(0.5)(lay2)\n",
    "        lay3 = keras.layers.Dense(600, activation=\"relu\", kernel_initializer='he_uniform')(drop2)\n",
    "        drop3 = keras.layers.Dropout(0.5)(lay3)\n",
    "        lay4 = keras.layers.Dense(600, activation=\"relu\", kernel_initializer='he_uniform')(drop3)\n",
    "        drop4 = keras.layers.Dropout(0.5)(lay4)\n",
    "        outputs = keras.layers.Dense(aipd.shape[1])(drop4)\n",
    "        model = keras.models.Model(inputs=[pcv_input],\n",
    "                                       outputs=[outputs])\n",
    "        model.compile(loss=\"mean_squared_error\", optimizer=\"Adam\")\n",
    "    \n",
    "        mol = np.nonzero(np.sum(np.isnan(aipd), axis=1) == 0)[0]\n",
    "        \n",
    "        \n",
    "        history = model.fit([pcvars[mol,:]], aipd[mol, :],\n",
    "                            epochs=100, batch_size=128, shuffle=True, verbose=0)\n",
    "\n",
    "    pred = model.predict(pcvars, batch_size=512)\n",
    "    resid = aipd - pred\n",
    "        \n",
    "    if not os.path.exists(dataPBase + '%s/processed/NNres' % (sampleRef['cell'][samp])):\n",
    "        os.makedirs(dataPBase + '%s/processed/NNres' % (sampleRef['cell'][samp]))\n",
    "        \n",
    "    np.savez(os.path.join(dataPBase, sampleRef['cell'][samp],'processed','NNres',\n",
    "                           sampleRef['cell'][samp] + '_' + sampleRef['sampleName'][samp] + '_NNsimple_residuals'\n",
    "                          + suffix + '.npz'),\n",
    "             residuals = resid)\n",
    "    \n",
    "    return model\n"
   ]
  },
  {
   "cell_type": "code",
   "execution_count": 6,
   "metadata": {},
   "outputs": [
    {
     "name": "stderr",
     "output_type": "stream",
     "text": [
      "100%|██████████| 7/7 [00:22<00:00,  3.21s/it]\n"
     ]
    }
   ],
   "source": [
    "# widom\n",
    "amplicon = 'widom'\n",
    "useSamples = {'indep':indepSamples, 'dep':depSamples, 'widom':[3, 44, 45, 47, 48, 51, 52]}\n",
    "\n",
    "samp = 44\n",
    "imodel = getResiduals(samp)\n",
    "\n",
    "for samp in tqdm(useSamples[amplicon]):\n",
    "    if samp == 44:\n",
    "        continue\n",
    "    imodel = getResiduals(samp, imodel)\n",
    "    \n",
    "if not os.path.exists(dataPBase + 'pbrun6/processed/NNmodels'):\n",
    "        os.makedirs(dataPBase + 'pbrun6/processed/NNmodels')\n",
    "        \n",
    "imodel.save(dataPBase + 'pbrun6/processed/NNmodels/NNresid_widom_model')"
   ]
  },
  {
   "cell_type": "code",
   "execution_count": 7,
   "metadata": {},
   "outputs": [
    {
     "name": "stderr",
     "output_type": "stream",
     "text": [
      "100%|██████████| 38/38 [00:46<00:00,  1.22s/it]\n",
      "100%|██████████| 34/34 [00:36<00:00,  1.08s/it]\n"
     ]
    }
   ],
   "source": [
    "samp = 1\n",
    "imodel = getResiduals(samp)\n",
    "    \n",
    "for samp in tqdm(indepSamples):\n",
    "    if samp == 1:\n",
    "        continue\n",
    "    imodel = getResiduals(samp, imodel)\n",
    "    \n",
    "if not os.path.exists(dataPBase + 'pbrun10_CTCFpool_2/processed/NNmodels'):\n",
    "        os.makedirs(dataPBase + 'pbrun10_CTCFpool_2/processed/NNmodels')\n",
    "        \n",
    "imodel.save(dataPBase + 'pbrun10_CTCFpool_2/processed/NNmodels/NNresid_indep_model')\n",
    "    \n",
    "# not dependent site samples\n",
    "samp = 3\n",
    "dmodel = getResiduals(samp)\n",
    "    \n",
    "for samp in tqdm(depSamples):\n",
    "    if samp == 3:\n",
    "        continue\n",
    "    dmodel = getResiduals(samp, dmodel)\n",
    "        \n",
    "dmodel.save(dataPBase + 'pbrun10_CTCFpool_2/processed/NNmodels/NNresid_dep_model')\n"
   ]
  },
  {
   "cell_type": "code",
   "execution_count": 19,
   "metadata": {},
   "outputs": [
    {
     "name": "stderr",
     "output_type": "stream",
     "text": [
      "100%|██████████| 8/8 [00:13<00:00,  1.63s/it]\n",
      "100%|██████████| 12/12 [00:15<00:00,  1.27s/it]\n"
     ]
    }
   ],
   "source": [
    "imodel = keras.models.load_model(dataPBase + 'pbrun10_CTCFpool_2/processed/NNmodels/NNresid_indep_model')\n",
    "dmodel = keras.models.load_model(dataPBase + 'pbrun10_CTCFpool_2/processed/NNmodels/NNresid_dep_model')\n",
    "\n",
    "redoInd = indepSamples[indepSamples >= 72]\n",
    "redoDep = depSamples[depSamples >= 72]\n",
    "\n",
    "for samp in tqdm(redoInd, position=0):\n",
    "    imodel = getResiduals(samp, imodel)\n",
    "\n",
    "for samp in tqdm(redoDep, position=0):\n",
    "    dmodel = getResiduals(samp, dmodel)"
   ]
  },
  {
   "cell_type": "markdown",
   "metadata": {},
   "source": [
    "## Step 3: Use mixture models to set cutoffs for methylation for each adenine\n",
    "For each adenine in the amplicon reference, fit a two-component t-distribution mixture model to a mixture of residuals from unmethylated controls and fully methylated control DNA. Find a cutoff between methylated and unmethylated residuals based on this mixture. Measure the goodness of fit and quality of the cutoff using a variety of metrics and then set filters to exclude adenines for which no good cutoff seems possible. Output the resulting methylation predictions."
   ]
  },
  {
   "cell_type": "code",
   "execution_count": null,
   "metadata": {},
   "outputs": [],
   "source": [
    "# Now load in NN residuals for positive and negative controls\n",
    "\n",
    "refs = {'indep':irefseq, 'dep':drefseq} #, 'widom':wrefseq}\n",
    "posControl = {'indep':0, 'dep':2, 'widom':45}\n",
    "negControl = {'indep':1, 'dep':3, 'widom':44}\n",
    "\n",
    "amplicon = 'dep'\n",
    "\n",
    "refseq = refs[amplicon]\n",
    "refis = {n: np.array([b is n for b in refseq]) for n in ['A','C','G','T']}\n",
    "abaseInd = np.nonzero(np.logical_or(refis['A'], refis['T']))[0]\n",
    "\n",
    "residuals = []\n",
    "sampleOr = []\n",
    "\n",
    "for samp in [posControl[amplicon],negControl[amplicon]]:\n",
    "    with np.load(os.path.join(dataPBase, sampleRef['cell'][samp],'processed','NNres',\n",
    "                               sampleRef['cell'][samp] + '_' + sampleRef['sampleName'][samp] + '_NNsimple_residuals.npz')) as data:\n",
    "        residuals.append(data['residuals'])\n",
    "        sampleOr.append(np.full((data['residuals'].shape[0],1), samp))"
   ]
  },
  {
   "cell_type": "code",
   "execution_count": 39,
   "metadata": {
    "scrolled": true
   },
   "outputs": [
    {
     "name": "stderr",
     "output_type": "stream",
     "text": [
      "100%|██████████| 1762/1762 [1:30:55<00:00,  3.10s/it]\n"
     ]
    }
   ],
   "source": [
    "# new t-distribution mixture variant\n",
    "\n",
    "import smm\n",
    "from scipy.stats import t\n",
    "import warnings\n",
    "from sklearn.exceptions import ConvergenceWarning\n",
    "\n",
    "minmol = min(residuals[0].shape[0], residuals[1].shape[0])\n",
    "usemol0 = np.random.choice(np.arange(residuals[0].shape[0]), size=minmol, replace=False)\n",
    "usemol1 = np.random.choice(np.arange(residuals[1].shape[0]), size=minmol, replace=False)\n",
    "concdat = np.concatenate([residuals[0][usemol0,:], residuals[1][usemol1,:]])\n",
    "\n",
    "smmfd = {'basei':[], 'threshold':[], 'meanlow':[], 'meanhigh':[], 'weighthigh':[], 'lowcut':[],\n",
    "         'lowprob':[], 'aicd':[], 'cutoff':[]}\n",
    "\n",
    "smmFitd = {}\n",
    "\n",
    "for b in tqdm(range(residuals[0].shape[1]), position=0, smoothing=0):\n",
    "    dat = concdat[:,b]\n",
    "    usedat = dat[~np.isnan(dat)].reshape(-1,1)\n",
    "    with warnings.catch_warnings():\n",
    "        warnings.simplefilter(\"ignore\", category=ConvergenceWarning)\n",
    "        smm1 = smm.SMM(1, tol=1e-6)\n",
    "        smm1.fit(usedat)\n",
    "        smm2 = smm.SMM(2, tol=1e-6, n_iter=1000)\n",
    "        smm2.fit(usedat)\n",
    "    smmFitd[b] = smm2\n",
    "    \n",
    "    xfine = np.linspace(0,1,1001)\n",
    "    preda = smm2.predict_proba(xfine.reshape(-1,1))\n",
    "    cutoff = xfine[np.abs(preda[:,1] - 0.5).argmin()]\n",
    "    lowcut = preda[0,1]\n",
    "    \n",
    "    lowcomp = smm2.means_.flatten().argmin()\n",
    "    highcomp = 1 - lowcomp\n",
    "    \n",
    "    smmfd['basei'].append(b)\n",
    "    smmfd['threshold'].append(cutoff)\n",
    "    smmfd['meanlow'].append(smm2.means_[lowcomp][0])\n",
    "    smmfd['meanhigh'].append(smm2.means_[highcomp][0])\n",
    "    smmfd['weighthigh'].append(smm2.weights_[highcomp])\n",
    "    smmfd['lowcut'].append(lowcut)\n",
    "    smmfd['lowprob'].append(smm2.predict_proba(np.array([-0.4]).reshape(-1,1))[0,highcomp])\n",
    "    smmfd['aicd'].append(smm1.aic(usedat) - smm2.aic(usedat))\n",
    "    smmfd['cutoff'].append(cutoff)\n",
    "    \n",
    "smmfd = pd.DataFrame(smmfd)"
   ]
  },
  {
   "cell_type": "code",
   "execution_count": 8,
   "metadata": {},
   "outputs": [
    {
     "name": "stderr",
     "output_type": "stream",
     "text": [
      "100%|██████████| 1762/1762 [00:01<00:00, 1557.05it/s]\n"
     ]
    }
   ],
   "source": [
    "# new measurement, look at rate of calling in pos and neg control for the cutoff\n",
    "\n",
    "posfrac = []\n",
    "negfrac = []\n",
    "\n",
    "for b in tqdm(range(residuals[0].shape[1]), position=0, smoothing=0):\n",
    "    pdat = residuals[0][:,b]\n",
    "    usepdat = pdat[~np.isnan(pdat)]\n",
    "    \n",
    "    posfrac.append(np.mean(usepdat > smmfd['cutoff'][b]))\n",
    "    \n",
    "    ndat = residuals[1][:,b]\n",
    "    usendat = ndat[~np.isnan(ndat)]\n",
    "    \n",
    "    negfrac.append(np.mean(usendat > smmfd['cutoff'][b]))\n",
    "\n",
    "posfrac = np.array(posfrac)\n",
    "negfrac = np.array(negfrac)"
   ]
  },
  {
   "cell_type": "code",
   "execution_count": 9,
   "metadata": {},
   "outputs": [
    {
     "name": "stderr",
     "output_type": "stream",
     "text": [
      "findfont: Font family ['sans-serif'] not found. Falling back to DejaVu Sans.\n",
      "findfont: Generic family 'sans-serif' not found because none of the following families were found: Arial\n",
      "findfont: Font family ['sans-serif'] not found. Falling back to DejaVu Sans.\n",
      "findfont: Generic family 'sans-serif' not found because none of the following families were found: Arial\n"
     ]
    },
    {
     "data": {
      "image/png": "[encoded data removed]",
      "text/plain": [
       "<Figure size 432x432 with 1 Axes>"
      ]
     },
     "metadata": {
      "needs_background": "light"
     },
     "output_type": "display_data"
    }
   ],
   "source": [
    "titleD = {'indep':'Independent site', 'dep':'Dependent site'}\n",
    "\n",
    "plt.figure(figsize=(6,6))\n",
    "plt.plot(posfrac[goodbase], negfrac[goodbase], 'b.', ms=3, label='Methylation called')\n",
    "plt.plot(posfrac[badbase], negfrac[badbase], 'r.', ms=3, label='Not used')\n",
    "plt.xlim([0,1])\n",
    "plt.ylim([0,1])\n",
    "plt.xlabel('Fraction of positive control called as methylated')\n",
    "plt.ylabel('Fraction of negative control called as methylated')\n",
    "plt.title(titleD[amplicon])\n",
    "plt.legend()\n",
    "plt.savefig('/data/users/goodarzilab/colin/Figures/smmControlFrac_' + amplicon + '.png', dpi=300)"
   ]
  },
  {
   "cell_type": "code",
   "execution_count": 10,
   "metadata": {},
   "outputs": [
    {
     "data": {
      "text/plain": [
       "0"
      ]
     },
     "execution_count": 10,
     "metadata": {},
     "output_type": "execute_result"
    },
    {
     "data": {
      "image/png": "[encoded data removed]",
      "text/plain": [
       "<Figure size 432x288 with 1 Axes>"
      ]
     },
     "metadata": {
      "needs_background": "light"
     },
     "output_type": "display_data"
    },
    {
     "data": {
      "image/png": "[encoded data removed]",
      "text/plain": [
       "<Figure size 432x288 with 1 Axes>"
      ]
     },
     "metadata": {
      "needs_background": "light"
     },
     "output_type": "display_data"
    }
   ],
   "source": [
    "plt.plot(posfrac[goodbase], posfrac[goodbase]/negfrac[goodbase], 'b.', ms=3, label='Methylation called')\n",
    "plt.plot(posfrac[badbase], posfrac[badbase]/negfrac[badbase], 'r.', ms=3, label='Not used')\n",
    "plt.ylim([0,10])\n",
    "plt.figure()\n",
    "plt.hist(posfrac[goodbase]/negfrac[goodbase], 200)\n",
    "0"
   ]
  },
  {
   "cell_type": "code",
   "execution_count": 40,
   "metadata": {},
   "outputs": [
    {
     "name": "stderr",
     "output_type": "stream",
     "text": [
      "100%|██████████| 1762/1762 [00:00<00:00, 2768.14it/s]\n"
     ]
    }
   ],
   "source": [
    "dfrac = []\n",
    "for b in tqdm(range(residuals[0].shape[1]), position=0, smoothing=0):\n",
    "    dat = concdat[:,b]\n",
    "    usedat = dat[~np.isnan(dat)].reshape(-1,1)\n",
    "    \n",
    "    dfrac.append( np.mean( usedat > smmfd['cutoff'][b]))\n",
    "dfrac = np.array(dfrac)"
   ]
  },
  {
   "cell_type": "code",
   "execution_count": 27,
   "metadata": {},
   "outputs": [
    {
     "data": {
      "text/plain": [
       "0"
      ]
     },
     "execution_count": 27,
     "metadata": {},
     "output_type": "execute_result"
    },
    {
     "data": {
      "image/png": "[encoded data removed]",
      "text/plain": [
       "<Figure size 432x288 with 1 Axes>"
      ]
     },
     "metadata": {
      "needs_background": "light"
     },
     "output_type": "display_data"
    }
   ],
   "source": [
    "plt.hist(dfrac, np.linspace(0,1,100))\n",
    "0"
   ]
  },
  {
   "cell_type": "code",
   "execution_count": 41,
   "metadata": {},
   "outputs": [
    {
     "name": "stdout",
     "output_type": "stream",
     "text": [
      "1698\n",
      "64\n"
     ]
    }
   ],
   "source": [
    "if amplicon == 'indep':\n",
    "    passfilt = np.logical_and.reduce([(smmfd['meanhigh'] - smmfd['meanlow']).to_numpy() > 0.2,\n",
    "                                      smmfd['meanhigh'] > 0,\n",
    "                                      dfrac > 0.02])\n",
    "\n",
    "if amplicon == 'dep':\n",
    "    passfilt = np.logical_and.reduce([(smmfd['meanhigh'] - smmfd['meanlow']).to_numpy() > 0.1,\n",
    "                                      smmfd['meanhigh'] > 0,\n",
    "                                      dfrac > 0.02])\n",
    "    \n",
    "if amplicon == 'widom':\n",
    "    passfilt = np.logical_and.reduce([(smmfd['meanhigh'] - smmfd['meanlow']).to_numpy() > 0.3,\n",
    "                                      smmfd['meanhigh'] > 0,\n",
    "                                      dfrac > 0.02])\n",
    "    \n",
    "goodbase = np.nonzero(passfilt)[0]\n",
    "badbase = np.nonzero(~passfilt)[0]\n",
    "    \n",
    "print(len(goodbase))\n",
    "print(len(badbase))"
   ]
  },
  {
   "cell_type": "code",
   "execution_count": 42,
   "metadata": {},
   "outputs": [
    {
     "name": "stderr",
     "output_type": "stream",
     "text": [
      "100%|██████████| 14/14 [00:28<00:00,  2.06s/it]\n"
     ]
    }
   ],
   "source": [
    "# now apply threshhold to all samples\n",
    "#useSamples = {'indep':indepSamples, 'dep':depSamples, 'widom':[3, 44, 45, 47, 48, 51, 52]}\n",
    "useSamples = {'indep':np.append([0,1], redoInd), 'dep':np.append([2,3], redoDep), 'widom':[3, 44, 45, 47, 48, 51, 52]}\n",
    "for samp in tqdm(useSamples[amplicon], position=0):\n",
    "    with np.load(os.path.join(dataPBase, sampleRef['cell'][samp],'processed','NNres',\n",
    "                               sampleRef['cell'][samp] + '_' + sampleRef['sampleName'][samp] + '_NNsimple_residuals.npz')) as data:\n",
    "        resid = data['residuals']\n",
    "        \n",
    "    methbin = np.full(resid.shape, np.nan, dtype=np.float32)\n",
    "    \n",
    "    for b in range(methbin.shape[1]):\n",
    "        if b in goodbase:\n",
    "            hasmeasure = ~np.isnan(resid[:,b])\n",
    "            methbin[hasmeasure,b] = resid[hasmeasure,b] > smmfd['threshold'][b]\n",
    "            \n",
    "    if not os.path.exists(dataPBase + '%s/processed/binarized' % (sampleRef['cell'][samp])):\n",
    "        os.makedirs(dataPBase + '%s/processed/binarized' % (sampleRef['cell'][samp]))\n",
    "        \n",
    "    np.savez(os.path.join(dataPBase, sampleRef['cell'][samp],'processed','binarized',\n",
    "                               sampleRef['cell'][samp] + '_' + sampleRef['sampleName'][samp] + '_NNsimple_binarized_SMM.npz'),\n",
    "             methpred = methbin)"
   ]
  },
  {
   "cell_type": "code",
   "execution_count": 21,
   "metadata": {},
   "outputs": [
    {
     "data": {
      "text/plain": [
       "<matplotlib.lines.Line2D at 0x7f0a3069bd90>"
      ]
     },
     "execution_count": 21,
     "metadata": {},
     "output_type": "execute_result"
    },
    {
     "data": {
      "image/png": "[encoded data removed]",
      "text/plain": [
       "<Figure size 1008x1008 with 4 Axes>"
      ]
     },
     "metadata": {
      "needs_background": "light"
     },
     "output_type": "display_data"
    }
   ],
   "source": [
    "fig, ax = plt.subplots(2,2, figsize=(14,14))\n",
    "ax[0,0].plot(smmfd['meanhigh'][goodbase], smmfd['weighthigh'][goodbase], 'b.')\n",
    "ax[0,0].plot(smmfd['meanhigh'][badbase], smmfd['weighthigh'][badbase], 'r.')\n",
    "ax[0,0].axvline(x=0.4, ls='--', color='slategray')\n",
    "ax[0,0].axhline(y=0.1, ls='--', color='slategray')\n",
    "\n",
    "ax[0,1].plot(smmfd['meanhigh'], smmfd['aicd'], '.')\n",
    "ax[0,1].axvline(x=0.5, ls='--', color='slategray')\n",
    "\n",
    "ax[1,0].plot(smmfd['meanhigh'], smmfd['lowprob'], '.')\n",
    "ax[1,0].axvline(x=0.5, ls='--', color='slategray')\n",
    "ax[1,0].axhline(y=0.1, ls='--', color='slategray')\n",
    "\n",
    "\n",
    "ax[1,1].plot(smmfd['weighthigh'], smmfd['aicd'], '.')\n",
    "ax[1,1].axvline(x=0.1, ls='--', color='slategray')\n",
    "ax[1,1].axhline(y=300, ls='--', color='slategray')\n"
   ]
  },
  {
   "cell_type": "code",
   "execution_count": null,
   "metadata": {
    "scrolled": true
   },
   "outputs": [],
   "source": [
    "## Plot lots of examples of \"bad\" bases, visually inspect to see that there really isn't a good potential methylation\n",
    "## cutoff possible\n",
    "\n",
    "figw = 5\n",
    "figh = 10\n",
    "figind = 50\n",
    "\n",
    "x=np.linspace(-1,1.5,100)\n",
    "\n",
    "for b in tqdm(badbase[0:200], position=0):\n",
    "    \n",
    "    dat = concdat[:,b]\n",
    "    usedat = dat[~np.isnan(dat)].reshape(-1,1)\n",
    "    \n",
    "    if figind >= (figw * figh):\n",
    "        fig, ax = plt.subplots(figh, figw, figsize=(15, 15), sharex=True, sharey=True)\n",
    "        figind = 0\n",
    "        \n",
    "    ax[int(figind / figw), figind % figw].hist(usedat, np.linspace(-1, 1.5, 50), density=True)\n",
    "    for comp, col in [(0,'orange'), (1,'red')]:\n",
    "        ax[int(figind / figw), figind % figw].plot(x, smmFitd[b].weights[comp]*norm.pdf(x, loc=smmFitd[b].means[comp][0], scale=np.sqrt(smmFitd[b].covariances[comp][0][0])), color=col)\n",
    "    #ax[int(figind / figw), figind % figw].axvline(x=cutoff, ls='--', color='slategray')\n",
    "    ax[int(figind / figw), figind % figw].axvline(x=smmfd['cutoff'][b], ls='--', color='slategray')\n",
    "    ax[int(figind / figw), figind % figw].text(.5,1.5, b, fontsize=14)\n",
    "    ax[int(figind / figw), figind % figw].text(-1,2.8, '{:.2f}'.format(smmfd['weighthigh'][b]), fontsize=11)\n",
    "    ax[int(figind / figw), figind % figw].text(-1,2.3, '{:.2f}'.format(smmfd['meanhigh'][b]), fontsize=11)\n",
    "    ax[int(figind / figw), figind % figw].text(-1,1.8, '{:.2f}'.format(smmfd['lowprob'][b]), fontsize=11)\n",
    "    ax[int(figind / figw), figind % figw].text(-1,1.3, '{:.0f}'.format(smmfd['aicd'][b]), fontsize=11)\n",
    "    figind += 1\n",
    "    #plt.xlabel('residual')"
   ]
  },
  {
   "cell_type": "code",
   "execution_count": null,
   "metadata": {
    "scrolled": true
   },
   "outputs": [],
   "source": [
    "## Plot lots of examples of \"good\" bases, visually inspect to see that the mixture model fit well and found a good cutoff\n",
    "\n",
    "figw = 5\n",
    "figh = 10\n",
    "figind = 50\n",
    "\n",
    "x=np.linspace(-1,1.5,100)\n",
    "\n",
    "for b in tqdm(goodbase[0:1000], position=0):\n",
    "    \n",
    "    dat = concdat[:,b]\n",
    "    usedat = dat[~np.isnan(dat)].reshape(-1,1)\n",
    "    \n",
    "    if figind >= (figw * figh):\n",
    "        fig, ax = plt.subplots(figh, figw, figsize=(15, 15), sharex=True, sharey=True)\n",
    "        figind = 0\n",
    "        \n",
    "    ax[int(figind / figw), figind % figw].hist(usedat, np.linspace(-1, 1.5, 50), density=True)\n",
    "    for comp, col in [(0,'orange'), (1,'red')]:\n",
    "        ax[int(figind / figw), figind % figw].plot(x, smmFitd[b].weights[comp]*norm.pdf(x, loc=smmFitd[b].means[comp][0], scale=np.sqrt(smmFitd[b].covariances[comp][0][0])), color=col)\n",
    "    #ax[int(figind / figw), figind % figw].axvline(x=cutoff, ls='--', color='slategray')\n",
    "    ax[int(figind / figw), figind % figw].axvline(x=smmfd['cutoff'][b], ls='--', color='slategray')\n",
    "    ax[int(figind / figw), figind % figw].text(.5,1.5, b, fontsize=14)\n",
    "    ax[int(figind / figw), figind % figw].text(-1,2.8, '{:.2f}'.format(smmfd['weighthigh'][b]), fontsize=11)\n",
    "    ax[int(figind / figw), figind % figw].text(-1,2.3, '{:.2f}'.format(smmfd['meanhigh'][b]), fontsize=11)\n",
    "    ax[int(figind / figw), figind % figw].text(-1,1.8, '{:.2f}'.format(smmfd['lowprob'][b]), fontsize=11)\n",
    "    ax[int(figind / figw), figind % figw].text(-1,1.3, '{:.0f}'.format(smmfd['aicd'][b]), fontsize=11)\n",
    "    figind += 1\n",
    "    #plt.xlabel('residual')"
   ]
  },
  {
   "cell_type": "markdown",
   "metadata": {},
   "source": [
    "## Step 4: Use an HMM model to classifying accessibility along each molecule\n"
   ]
  },
  {
   "cell_type": "code",
   "execution_count": 44,
   "metadata": {},
   "outputs": [],
   "source": [
    "from pomegranate import HiddenMarkovModel, State, BernoulliDistribution\n",
    "\n",
    "\n",
    "refs = {'indep':irefseq, 'dep':drefseq, 'widom':None}#wrefseq}\n",
    "posControl = {'indep':0, 'dep':2, 'widom':45}\n",
    "negControl = {'indep':1, 'dep':3, 'widom':44}\n",
    "useSamples = {'indep':indepSamples, 'dep':depSamples, 'widom':[3, 44, 45, 47, 48, 51, 52]}\n",
    "\n",
    "amplicon = 'indep'\n",
    "\n",
    "refseq = refs[amplicon]\n",
    "possamp = posControl[amplicon]\n",
    "negsamp = negControl[amplicon]\n",
    "\n",
    "bins = {}\n",
    "for samp in useSamples[amplicon]:\n",
    "    with np.load(os.path.join(dataPBase, sampleRef['cell'][samp],'processed','binarized',\n",
    "                               sampleRef['cell'][samp] + '_' + sampleRef['sampleName'][samp] + '_NNsimple_binarized_SMM.npz')) as data:\n",
    "        bins[samp] = data['methpred']\n",
    "\n",
    "goodInd = np.sum(np.isnan(bins[negsamp]), axis=0) < bins[negsamp].shape[0]\n",
    "\n",
    "refis = {n: np.array([b is n for b in refseq]) for n in ['A','C','G','T']}\n",
    "abaseInd = np.nonzero(np.logical_or(refis['A'], refis['T']))[0]\n",
    "\n",
    "goodBase = abaseInd[goodInd]\n",
    "\n",
    "goodIndInd = np.nonzero(goodInd)[0]\n",
    "\n",
    "\n",
    "# Find the probability of each good base being methylated in negative and positive controls  \n",
    "posmprob = np.full((len(abaseInd)), np.nan)\n",
    "for i in range(len(abaseInd)):\n",
    "    if goodInd[i]:\n",
    "        hasmeasure = ~np.isnan(bins[possamp][:,i])\n",
    "        posmprob[i] = (np.sum(bins[possamp][hasmeasure,i] == 1) + .5) / (np.sum(hasmeasure) + .5)\n",
    "\n",
    "negmprob = np.full((len(abaseInd)), np.nan)\n",
    "for i in range(len(abaseInd)):\n",
    "    if goodInd[i]:\n",
    "        hasmeasure = ~np.isnan(bins[negsamp][:,i])\n",
    "        negmprob[i] = (np.sum(bins[negsamp][hasmeasure,i] == 1) + .5) / (np.sum(hasmeasure) + .5)\n",
    "\n",
    "# construct the model using these probabilities\n",
    "AcAd = []\n",
    "InacAd = []\n",
    "\n",
    "for ib, b in enumerate(goodIndInd):\n",
    "    AcAd.append(State(BernoulliDistribution(posmprob[b]), name=\"Ac_{0}\".format(ib)))\n",
    "    InacAd.append(State(BernoulliDistribution(negmprob[b]), name=\"Inac_{0}\".format(ib)))\n",
    "    \n",
    "model = HiddenMarkovModel()\n",
    "model.add_states(AcAd)\n",
    "model.add_states(InacAd)\n",
    "model.add_transition(model.start, AcAd[0], 0.5)\n",
    "model.add_transition(model.start, InacAd[0], 0.5)\n",
    "\n",
    "for b in np.arange(len(goodIndInd)-1):\n",
    "    dist = abaseInd[goodIndInd[b+1]] - abaseInd[goodIndInd[b]]\n",
    "    stayInacP = (1 - 1/1000)**dist\n",
    "    model.add_transition(InacAd[b], InacAd[b+1], stayInacP)\n",
    "    model.add_transition(InacAd[b], AcAd[b+1], 1 - stayInacP)\n",
    "    stayAcP = (1 - 1/1000)**dist\n",
    "    model.add_transition(AcAd[b], AcAd[b+1], stayAcP)\n",
    "    model.add_transition(AcAd[b], InacAd[b+1], 1 - stayAcP)\n",
    "    \n",
    "model.add_transition(AcAd[len(goodIndInd)-1], model.end, 1)\n",
    "model.add_transition(InacAd[len(goodIndInd)-1], model.end, 1)\n",
    "model.bake()"
   ]
  },
  {
   "cell_type": "code",
   "execution_count": 46,
   "metadata": {
    "scrolled": true
   },
   "outputs": [
    {
     "name": "stderr",
     "output_type": "stream",
     "text": [
      "CTCF_Ind_20to1_plusATP_MT_rep2: 100%|██████████| 56409/56409 [2:30:44<00:00,  6.24it/s]  \n",
      "CTCF_Ind_15to1_plusATP_MT_rep2: 100%|██████████| 61531/61531 [2:45:21<00:00,  6.20it/s]  \n",
      "CTCF_Ind_10to1_plusATP_MT_rep2: 100%|██████████| 40585/40585 [1:49:28<00:00,  6.18it/s]\n",
      "CTCF_Ind_5to1_plusATP_MT_rep2: 100%|██████████| 33475/33475 [1:30:46<00:00,  6.15it/s]\n",
      "CTCF_Ind_20to1_plusADP_MT_rep2: 100%|██████████| 69814/69814 [3:07:01<00:00,  6.22it/s]  \n",
      "CTCF_Ind_15to1_plusADP_MT_rep2: 100%|██████████| 58548/58548 [2:37:03<00:00,  6.21it/s]  \n",
      "CTCF_Ind_10to1_plusADP_MT_rep2: 100%|██████████| 35686/35686 [1:36:30<00:00,  6.16it/s]\n",
      "CTCF_Ind_5to1_plusADP_MT_rep2: 100%|██████████| 35135/35135 [1:35:22<00:00,  6.14it/s]\n"
     ]
    }
   ],
   "source": [
    "# For each molecule, use the observed methylation to solve the most likely state path through the HMM\n",
    "\n",
    "useSamples = {'indep':redoInd, 'dep':redoDep}\n",
    "for samp in useSamples[amplicon]:\n",
    "\n",
    "    with np.load(os.path.join(dataPBase, sampleRef['cell'][samp],'processed','binarized',\n",
    "                               sampleRef['cell'][samp] + '_' + sampleRef['sampleName'][samp] + '_NNsimple_binarized_SMM.npz')) as data:\n",
    "        bins[samp] = data['methpred']\n",
    "        \n",
    "    refbases = np.arange(len(refseq))\n",
    "    hmmRes = np.full((bins[samp].shape[0], len(refseq)), np.nan)\n",
    "    for im in tqdm(np.arange(bins[samp].shape[0]), position=0, smoothing=0.001, mininterval=20,\n",
    "                   desc=sampleRef['sampleName'][samp]):\n",
    "\n",
    "        path = model.viterbi(bins[samp][im,goodInd])\n",
    "\n",
    "        pathRes = np.full(len(goodIndInd), np.nan)\n",
    "        for p in path[1]:\n",
    "            psplit = p[1].name.split('_')\n",
    "            if len(psplit) > 1:\n",
    "                if psplit[0] == 'Ac':\n",
    "                    pathRes[int(psplit[1])] = 1\n",
    "                if psplit[0] == 'Inac':\n",
    "                    pathRes[int(psplit[1])] = 0\n",
    "\n",
    "        hmmRes[im,:] = np.interp(refbases, goodBase, pathRes)\n",
    "        \n",
    "    if not os.path.exists(dataPBase + '%s/processed/binarized' % (sampleRef['cell'][samp])):\n",
    "        os.makedirs(dataPBase + '%s/processed/binarized' % (sampleRef['cell'][samp]))\n",
    "        \n",
    "    np.save(os.path.join(dataPBase, sampleRef['cell'][samp],'processed','binarized',\n",
    "                         sampleRef['cell'][samp] + '_' + sampleRef['sampleName'][samp] + '_HMM.npy'),\n",
    "            arr = hmmRes)"
   ]
  },
  {
   "cell_type": "code",
   "execution_count": 127,
   "metadata": {},
   "outputs": [
    {
     "data": {
      "text/plain": [
       "<matplotlib.image.AxesImage at 0x7f94a65ace20>"
      ]
     },
     "execution_count": 127,
     "metadata": {},
     "output_type": "execute_result"
    },
    {
     "data": {
      "image/png": "[encoded data removed]",
      "text/plain": [
       "<Figure size 864x864 with 1 Axes>"
      ]
     },
     "metadata": {
      "needs_background": "light"
     },
     "output_type": "display_data"
    }
   ],
   "source": [
    "cmapbin = matplotlib.colors.LinearSegmentedColormap.from_list('custom cmap', ['#8ae0e3','#722685'], 3) #['midnightblue', 'coral']\n",
    "bounds = np.array([-0.5, .5, 1.5])\n",
    "norm = matplotlib.colors.BoundaryNorm(bounds, cmapbin.N)\n",
    "\n",
    "plt.figure(figsize=(12,12))\n",
    "plt.imshow(hmmRes[0:1500,:], aspect='auto', interpolation='none',cmap = cmapbin, norm=norm)"
   ]
  }
 ],
 "metadata": {
  "kernelspec": {
   "display_name": "Python [conda env:NN2]",
   "language": "python",
   "name": "conda-env-NN2-py"
  },
  "language_info": {
   "codemirror_mode": {
    "name": "ipython",
    "version": 3
   },
   "file_extension": ".py",
   "mimetype": "text/x-python",
   "name": "python",
   "nbconvert_exporter": "python",
   "pygments_lexer": "ipython3",
   "version": "3.8.8"
  }
 },
 "nbformat": 4,
 "nbformat_minor": 2
}
